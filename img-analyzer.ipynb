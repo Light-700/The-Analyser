{
 "cells": [
  {
   "cell_type": "code",
   "execution_count": null,
   "metadata": {
    "_cell_guid": "b1076dfc-b9ad-4769-8c92-a6c4dae69d19",
    "_uuid": "8f2839f25d086af736a60e9eeb907d3b93b6e0e5",
    "execution": {
     "iopub.execute_input": "2024-09-19T13:42:59.817501Z",
     "iopub.status.busy": "2024-09-19T13:42:59.817060Z",
     "iopub.status.idle": "2024-09-19T13:42:59.842018Z",
     "shell.execute_reply": "2024-09-19T13:42:59.840462Z",
     "shell.execute_reply.started": "2024-09-19T13:42:59.817460Z"
    },
    "trusted": true
   },
   "outputs": [],
   "source": [
    "# This Python 3 environment comes with many helpful analytics libraries installed\n",
    "# It is defined by the kaggle/python Docker image: https://github.com/kaggle/docker-python\n",
    "# For example, here's several helpful packages to load\n",
    "\n",
    "import numpy as np # linear algebra\n",
    "import pandas as pd # data processing, CSV file I/O (e.g. pd.read_csv)\n",
    "\n",
    "# Input data files are available in the read-only \"../input/\" directory\n",
    "# For example, running this (by clicking run or pressing Shift+Enter) will list all files under the input directory\n",
    "\n",
    "import os\n",
    "for dirname, _, filenames in os.walk('/kaggle/input'):\n",
    "    for filename in filenames:\n",
    "        print(os.path.join(dirname, filename))\n",
    "\n",
    "# You can write up to 20GB to the current directory (/kaggle/working/) that gets preserved as output when you create a version using \"Save & Run All\" \n",
    "# You can also write temporary files to /kaggle/temp/, but they won't be saved outside of the current session"
   ]
  },
  {
   "cell_type": "code",
   "execution_count": null,
   "metadata": {
    "execution": {
     "iopub.execute_input": "2024-09-19T13:43:01.533933Z",
     "iopub.status.busy": "2024-09-19T13:43:01.533472Z",
     "iopub.status.idle": "2024-09-19T13:43:12.750360Z",
     "shell.execute_reply": "2024-09-19T13:43:12.749066Z",
     "shell.execute_reply.started": "2024-09-19T13:43:01.533889Z"
    },
    "trusted": true
   },
   "outputs": [],
   "source": [
    "train = pd.read_csv(r\"/kaggle/input/emnist/emnist-balanced-train.csv\", header= None)\n",
    "test = pd.read_csv(r\"/kaggle/input/emnist/emnist-balanced-test.csv\", header= None)\n",
    "print(train.shape)\n",
    "print(test.shape)"
   ]
  },
  {
   "cell_type": "code",
   "execution_count": 48,
   "metadata": {
    "execution": {
     "iopub.execute_input": "2024-09-19T13:43:12.753615Z",
     "iopub.status.busy": "2024-09-19T13:43:12.753198Z",
     "iopub.status.idle": "2024-09-19T13:43:12.760671Z",
     "shell.execute_reply": "2024-09-19T13:43:12.759230Z",
     "shell.execute_reply.started": "2024-09-19T13:43:12.753574Z"
    },
    "trusted": true
   },
   "outputs": [],
   "source": [
    "import matplotlib.pyplot as plt\n",
    "import seaborn as sns\n",
    "from scipy.stats import norm\n",
    "import cv2\n",
    "\n",
    "from sklearn.model_selection import train_test_split\n",
    "\n",
    "import tensorflow as tf\n",
    "from tensorflow import keras as kr"
   ]
  },
  {
   "cell_type": "code",
   "execution_count": 49,
   "metadata": {
    "execution": {
     "iopub.execute_input": "2024-09-19T13:43:12.763059Z",
     "iopub.status.busy": "2024-09-19T13:43:12.762507Z",
     "iopub.status.idle": "2024-09-19T13:43:12.772945Z",
     "shell.execute_reply": "2024-09-19T13:43:12.771691Z",
     "shell.execute_reply.started": "2024-09-19T13:43:12.763000Z"
    },
    "trusted": true
   },
   "outputs": [],
   "source": [
    "from keras.models import Sequential, load_model\n",
    "from keras.callbacks import EarlyStopping, ModelCheckpoint\n",
    "from keras import layers\n",
    "from keras.layers import *\n",
    "from keras import utils\n",
    "from sklearn.preprocessing import OneHotEncoder "
   ]
  },
  {
   "cell_type": "code",
   "execution_count": null,
   "metadata": {
    "execution": {
     "iopub.execute_input": "2024-09-19T13:43:12.774980Z",
     "iopub.status.busy": "2024-09-19T13:43:12.774537Z",
     "iopub.status.idle": "2024-09-19T13:43:12.801456Z",
     "shell.execute_reply": "2024-09-19T13:43:12.800104Z",
     "shell.execute_reply.started": "2024-09-19T13:43:12.774938Z"
    },
    "trusted": true
   },
   "outputs": [],
   "source": [
    "test.head()"
   ]
  },
  {
   "cell_type": "code",
   "execution_count": null,
   "metadata": {
    "trusted": true
   },
   "outputs": [],
   "source": []
  },
  {
   "cell_type": "code",
   "execution_count": 51,
   "metadata": {
    "execution": {
     "iopub.execute_input": "2024-09-19T13:43:12.805439Z",
     "iopub.status.busy": "2024-09-19T13:43:12.804736Z",
     "iopub.status.idle": "2024-09-19T13:43:12.816375Z",
     "shell.execute_reply": "2024-09-19T13:43:12.815066Z",
     "shell.execute_reply.started": "2024-09-19T13:43:12.805395Z"
    },
    "trusted": true
   },
   "outputs": [],
   "source": [
    "label_map = pd.read_csv(\"/kaggle/input/emnist/emnist-balanced-mapping.txt\", \n",
    "                        delimiter = ' ', \n",
    "                        index_col=0, \n",
    "                        header=None, \n",
    "                        )\n",
    "label_m = label_map.squeeze()"
   ]
  },
  {
   "cell_type": "code",
   "execution_count": null,
   "metadata": {
    "execution": {
     "iopub.execute_input": "2024-09-19T13:43:12.818483Z",
     "iopub.status.busy": "2024-09-19T13:43:12.818025Z",
     "iopub.status.idle": "2024-09-19T13:43:12.829053Z",
     "shell.execute_reply": "2024-09-19T13:43:12.827875Z",
     "shell.execute_reply.started": "2024-09-19T13:43:12.818435Z"
    },
    "trusted": true
   },
   "outputs": [],
   "source": [
    "label_dict2={}\n",
    "for i,labels in enumerate(label_m):\n",
    "    label_dict2[labels] = chr(labels)\n",
    "label_dict2"
   ]
  },
  {
   "cell_type": "code",
   "execution_count": null,
   "metadata": {
    "_kg_hide-input": true,
    "execution": {
     "iopub.execute_input": "2024-09-19T13:43:12.831750Z",
     "iopub.status.busy": "2024-09-19T13:43:12.830600Z",
     "iopub.status.idle": "2024-09-19T13:43:12.845543Z",
     "shell.execute_reply": "2024-09-19T13:43:12.843902Z",
     "shell.execute_reply.started": "2024-09-19T13:43:12.831703Z"
    },
    "trusted": true
   },
   "outputs": [],
   "source": [
    "label_dict={}\n",
    "for i,labels in enumerate(label_m):\n",
    "    label_dict[i] = chr(labels)\n",
    "label_dict"
   ]
  },
  {
   "cell_type": "code",
   "execution_count": null,
   "metadata": {
    "execution": {
     "iopub.execute_input": "2024-09-19T13:43:12.847599Z",
     "iopub.status.busy": "2024-09-19T13:43:12.847107Z",
     "iopub.status.idle": "2024-09-19T13:43:12.865803Z",
     "shell.execute_reply": "2024-09-19T13:43:12.864582Z",
     "shell.execute_reply.started": "2024-09-19T13:43:12.847538Z"
    },
    "trusted": true
   },
   "outputs": [],
   "source": [
    "x_train = train.iloc[:, 1:]\n",
    "y_train = train.iloc[:, 0]\n",
    "\n",
    "x_train.shape, y_train.shape"
   ]
  },
  {
   "cell_type": "code",
   "execution_count": null,
   "metadata": {
    "execution": {
     "iopub.execute_input": "2024-09-19T13:43:12.867754Z",
     "iopub.status.busy": "2024-09-19T13:43:12.867336Z",
     "iopub.status.idle": "2024-09-19T13:43:12.881182Z",
     "shell.execute_reply": "2024-09-19T13:43:12.879940Z",
     "shell.execute_reply.started": "2024-09-19T13:43:12.867704Z"
    },
    "trusted": true
   },
   "outputs": [],
   "source": [
    "x_test = test.iloc[:, 1:] \n",
    "y_test = test.iloc[:, 0]\n",
    "x_test.shape, y_test.shape"
   ]
  },
  {
   "cell_type": "code",
   "execution_count": 56,
   "metadata": {
    "execution": {
     "iopub.execute_input": "2024-09-19T13:43:12.883233Z",
     "iopub.status.busy": "2024-09-19T13:43:12.882712Z",
     "iopub.status.idle": "2024-09-19T13:43:12.891346Z",
     "shell.execute_reply": "2024-09-19T13:43:12.890004Z",
     "shell.execute_reply.started": "2024-09-19T13:43:12.883175Z"
    },
    "trusted": true
   },
   "outputs": [],
   "source": [
    "sam_img=x_train.iloc[200]#this returns a series from the dataframe. Hence the shape is '(784,)'\n",
    "sam_lab=y_train.iloc[200]"
   ]
  },
  {
   "cell_type": "code",
   "execution_count": 57,
   "metadata": {
    "execution": {
     "iopub.execute_input": "2024-09-19T13:43:12.893405Z",
     "iopub.status.busy": "2024-09-19T13:43:12.893002Z",
     "iopub.status.idle": "2024-09-19T13:43:12.906775Z",
     "shell.execute_reply": "2024-09-19T13:43:12.905541Z",
     "shell.execute_reply.started": "2024-09-19T13:43:12.893364Z"
    },
    "trusted": true
   },
   "outputs": [],
   "source": [
    "## A code to reshape a vector to matrix using numpy  \n",
    "\n",
    "#\"import numpy as np\"\n",
    "#(the lines in '' are the code lines).\n",
    "# A flattened 1D array of length 784 (representing a 28x28 image).\n",
    "#'flattened_image = np.arange(1, 785)  # Example array with values 1 to 784'\n",
    "\n",
    "# Reshape it to 28x28.\n",
    "#'reshaped_image = flattened_image.reshape(28, 28)'\n",
    "\n",
    "#'print(reshaped_image)'"
   ]
  },
  {
   "cell_type": "markdown",
   "metadata": {},
   "source": [
    "# ## A code to reshape a vector to matrix using numpy \n",
    "\n",
    "import numpy as np\n",
    "\n",
    "\n",
    "**( A flattened 1D array of length 784 (representing a 28x28 image).)**\n",
    "\n",
    "flattened_image = np.arange(1, 785)  \n",
    "\n",
    "**(Example array with values 1 to 784)**\n",
    "\n",
    "\n",
    "**(Reshape it to 28x28.)**\n",
    "reshaped_image = flattened_image.reshape(28, 28)\n",
    "\n",
    "\n",
    "print(reshaped_image)"
   ]
  },
  {
   "cell_type": "code",
   "execution_count": null,
   "metadata": {
    "execution": {
     "iopub.execute_input": "2024-09-19T13:43:12.908897Z",
     "iopub.status.busy": "2024-09-19T13:43:12.908353Z",
     "iopub.status.idle": "2024-09-19T13:43:13.102282Z",
     "shell.execute_reply": "2024-09-19T13:43:13.101101Z",
     "shell.execute_reply.started": "2024-09-19T13:43:12.908854Z"
    },
    "trusted": true
   },
   "outputs": [],
   "source": [
    "W=28\n",
    "H=28\n",
    "print(\"Label entry No. 200:\", label_dict[sam_lab])\n",
    "plt.imshow(sam_img.values.reshape(W,H), cmap=\"gray\")\n",
    "plt.show()"
   ]
  },
  {
   "cell_type": "markdown",
   "metadata": {},
   "source": [
    "The images need to be preprocessed to be visualised properly. Hence we define a function to flip, rotate, and transform the images to grayscale."
   ]
  },
  {
   "cell_type": "code",
   "execution_count": 59,
   "metadata": {
    "execution": {
     "iopub.execute_input": "2024-09-19T13:43:13.104032Z",
     "iopub.status.busy": "2024-09-19T13:43:13.103641Z",
     "iopub.status.idle": "2024-09-19T13:43:13.114176Z",
     "shell.execute_reply": "2024-09-19T13:43:13.112870Z",
     "shell.execute_reply.started": "2024-09-19T13:43:13.103992Z"
    },
    "trusted": true
   },
   "outputs": [],
   "source": [
    "def preproc_1(image):\n",
    "    W = 28\n",
    "    H = 28\n",
    "    image = image.to_numpy(copy=True).reshape(W, H)#numpy methods work well with pandas dataframes and series(for this case).\n",
    "    image = np.fliplr(image)\n",
    "    image = np.rot90(image)\n",
    "    plt.imshow(image,cmap=\"gray\")\n",
    "    plt.show()\n",
    "    return image"
   ]
  },
  {
   "cell_type": "code",
   "execution_count": null,
   "metadata": {
    "execution": {
     "iopub.execute_input": "2024-09-19T13:43:13.120761Z",
     "iopub.status.busy": "2024-09-19T13:43:13.120338Z",
     "iopub.status.idle": "2024-09-19T13:43:13.320677Z",
     "shell.execute_reply": "2024-09-19T13:43:13.319248Z",
     "shell.execute_reply.started": "2024-09-19T13:43:13.120718Z"
    },
    "trusted": true
   },
   "outputs": [],
   "source": [
    "print(\"Label entry No. 200:\", label_dict[sam_lab])\n",
    "img=preproc_1(sam_img)"
   ]
  },
  {
   "cell_type": "code",
   "execution_count": 61,
   "metadata": {
    "execution": {
     "iopub.execute_input": "2024-09-19T13:43:13.323275Z",
     "iopub.status.busy": "2024-09-19T13:43:13.322651Z",
     "iopub.status.idle": "2024-09-19T13:43:13.336241Z",
     "shell.execute_reply": "2024-09-19T13:43:13.332092Z",
     "shell.execute_reply.started": "2024-09-19T13:43:13.323205Z"
    },
    "trusted": true
   },
   "outputs": [],
   "source": [
    "def preproc_all(image):\n",
    "    W = 28\n",
    "    H = 28\n",
    "    image = image.reshape(W, H)#numpy methods work well with pandas dataframes and series(for this case).\n",
    "    image = np.fliplr(image)\n",
    "    image = np.rot90(image)\n",
    "    return image"
   ]
  },
  {
   "cell_type": "code",
   "execution_count": null,
   "metadata": {
    "execution": {
     "iopub.execute_input": "2024-09-19T13:43:13.338909Z",
     "iopub.status.busy": "2024-09-19T13:43:13.338367Z",
     "iopub.status.idle": "2024-09-19T13:43:17.114470Z",
     "shell.execute_reply": "2024-09-19T13:43:17.113249Z",
     "shell.execute_reply.started": "2024-09-19T13:43:13.338850Z"
    },
    "trusted": true
   },
   "outputs": [],
   "source": [
    "x_train = np.apply_along_axis(preproc_all, 1, x_train)\n",
    "x_train.shape"
   ]
  },
  {
   "cell_type": "code",
   "execution_count": null,
   "metadata": {
    "execution": {
     "iopub.execute_input": "2024-09-19T13:43:17.116120Z",
     "iopub.status.busy": "2024-09-19T13:43:17.115743Z",
     "iopub.status.idle": "2024-09-19T13:43:17.693407Z",
     "shell.execute_reply": "2024-09-19T13:43:17.692321Z",
     "shell.execute_reply.started": "2024-09-19T13:43:17.116080Z"
    },
    "trusted": true
   },
   "outputs": [],
   "source": [
    "x_test = np.apply_along_axis(preproc_all, 1, x_test)\n",
    "x_test.shape"
   ]
  },
  {
   "cell_type": "code",
   "execution_count": null,
   "metadata": {
    "execution": {
     "iopub.execute_input": "2024-09-19T13:43:17.695162Z",
     "iopub.status.busy": "2024-09-19T13:43:17.694740Z",
     "iopub.status.idle": "2024-09-19T13:43:20.561434Z",
     "shell.execute_reply": "2024-09-19T13:43:20.560218Z",
     "shell.execute_reply.started": "2024-09-19T13:43:17.695119Z"
    },
    "trusted": true
   },
   "outputs": [],
   "source": [
    "plt.figure(figsize=(10, 8), dpi=80)\n",
    "for i in range(100, 118):\n",
    "    plt.subplot(3,6,i-99)\n",
    "    plt.imshow(x_train[i], cmap=\"inferno\")\n",
    "    plt.title(label_dict[y_train[i]])"
   ]
  },
  {
   "cell_type": "code",
   "execution_count": null,
   "metadata": {
    "execution": {
     "iopub.execute_input": "2024-09-19T13:43:20.563632Z",
     "iopub.status.busy": "2024-09-19T13:43:20.563139Z",
     "iopub.status.idle": "2024-09-19T13:43:23.433139Z",
     "shell.execute_reply": "2024-09-19T13:43:23.431872Z",
     "shell.execute_reply.started": "2024-09-19T13:43:20.563577Z"
    },
    "trusted": true
   },
   "outputs": [],
   "source": [
    "plt.figure(figsize=(10, 8), dpi=80)\n",
    "for i in range(100, 118):\n",
    "    plt.subplot(3,6,i-99)\n",
    "    plt.imshow(x_test[i], cmap=\"inferno\")\n",
    "    plt.title(label_dict[y_test[i]])"
   ]
  },
  {
   "cell_type": "code",
   "execution_count": null,
   "metadata": {
    "execution": {
     "iopub.execute_input": "2024-09-19T13:43:23.435488Z",
     "iopub.status.busy": "2024-09-19T13:43:23.434989Z",
     "iopub.status.idle": "2024-09-19T13:43:24.409234Z",
     "shell.execute_reply": "2024-09-19T13:43:24.408009Z",
     "shell.execute_reply.started": "2024-09-19T13:43:23.435437Z"
    },
    "trusted": true
   },
   "outputs": [],
   "source": [
    "x_train= x_train.astype(float)/255\n",
    "x_test= x_test.astype(float)/255\n",
    "plt.imshow(x_train[120],cmap=\"gray\")\n",
    "plt.title(label_dict[y_train[120]])\n",
    "plt.show()\n",
    "plt.imshow(x_test[120],cmap=\"inferno\")\n",
    "plt.title(label_dict[y_test[120]])\n",
    "plt.show()"
   ]
  },
  {
   "cell_type": "markdown",
   "metadata": {},
   "source": [
    "# **ONE-HOT ENCODING** \n",
    "\n",
    "For the ease of classification we will be one-hot encoding it to make it categorical in a binary format.\n",
    "example-[1][0][0]....[0]x33 to represent 0."
   ]
  },
  {
   "cell_type": "code",
   "execution_count": null,
   "metadata": {
    "execution": {
     "iopub.execute_input": "2024-09-19T13:43:24.411418Z",
     "iopub.status.busy": "2024-09-19T13:43:24.410962Z",
     "iopub.status.idle": "2024-09-19T13:43:24.421208Z",
     "shell.execute_reply": "2024-09-19T13:43:24.419875Z",
     "shell.execute_reply.started": "2024-09-19T13:43:24.411373Z"
    },
    "trusted": true
   },
   "outputs": [],
   "source": [
    "classes=  y_train.nunique()\n",
    "classes"
   ]
  },
  {
   "cell_type": "code",
   "execution_count": 68,
   "metadata": {
    "execution": {
     "iopub.execute_input": "2024-09-19T13:43:24.423728Z",
     "iopub.status.busy": "2024-09-19T13:43:24.423188Z",
     "iopub.status.idle": "2024-09-19T13:43:24.457767Z",
     "shell.execute_reply": "2024-09-19T13:43:24.456565Z",
     "shell.execute_reply.started": "2024-09-19T13:43:24.423669Z"
    },
    "trusted": true
   },
   "outputs": [],
   "source": [
    "encoder = OneHotEncoder(sparse_output=False)\n",
    "y_train= y_train.values.reshape(-1,1)\n",
    "y_train = encoder.fit_transform(y_train)"
   ]
  },
  {
   "cell_type": "code",
   "execution_count": 69,
   "metadata": {
    "execution": {
     "iopub.execute_input": "2024-09-19T13:43:24.459537Z",
     "iopub.status.busy": "2024-09-19T13:43:24.459177Z",
     "iopub.status.idle": "2024-09-19T13:43:24.470526Z",
     "shell.execute_reply": "2024-09-19T13:43:24.469297Z",
     "shell.execute_reply.started": "2024-09-19T13:43:24.459500Z"
    },
    "trusted": true
   },
   "outputs": [],
   "source": [
    "encoder = OneHotEncoder(sparse_output=False)\n",
    "y_test= y_test.values.reshape(-1,1)\n",
    "y_test = encoder.fit_transform(y_test)"
   ]
  },
  {
   "cell_type": "code",
   "execution_count": null,
   "metadata": {
    "execution": {
     "iopub.execute_input": "2024-09-19T13:43:24.472630Z",
     "iopub.status.busy": "2024-09-19T13:43:24.472218Z",
     "iopub.status.idle": "2024-09-19T13:43:24.481048Z",
     "shell.execute_reply": "2024-09-19T13:43:24.479839Z",
     "shell.execute_reply.started": "2024-09-19T13:43:24.472569Z"
    },
    "trusted": true
   },
   "outputs": [],
   "source": [
    "y_train[120]"
   ]
  },
  {
   "cell_type": "code",
   "execution_count": null,
   "metadata": {
    "execution": {
     "iopub.execute_input": "2024-09-19T13:43:24.482906Z",
     "iopub.status.busy": "2024-09-19T13:43:24.482464Z",
     "iopub.status.idle": "2024-09-19T13:43:24.494097Z",
     "shell.execute_reply": "2024-09-19T13:43:24.492769Z",
     "shell.execute_reply.started": "2024-09-19T13:43:24.482863Z"
    },
    "trusted": true
   },
   "outputs": [],
   "source": [
    "y_test[120]"
   ]
  },
  {
   "cell_type": "code",
   "execution_count": null,
   "metadata": {
    "execution": {
     "iopub.execute_input": "2024-09-19T13:43:24.496303Z",
     "iopub.status.busy": "2024-09-19T13:43:24.495777Z",
     "iopub.status.idle": "2024-09-19T13:43:24.505387Z",
     "shell.execute_reply": "2024-09-19T13:43:24.504123Z",
     "shell.execute_reply.started": "2024-09-19T13:43:24.496246Z"
    },
    "trusted": true
   },
   "outputs": [],
   "source": [
    "print(x_train.shape)\n",
    "x_train=x_train.reshape(-1,W,H,1)\n",
    "print(x_train.shape)"
   ]
  },
  {
   "cell_type": "code",
   "execution_count": null,
   "metadata": {
    "execution": {
     "iopub.execute_input": "2024-09-19T13:43:24.508154Z",
     "iopub.status.busy": "2024-09-19T13:43:24.507105Z",
     "iopub.status.idle": "2024-09-19T13:43:24.519584Z",
     "shell.execute_reply": "2024-09-19T13:43:24.518389Z",
     "shell.execute_reply.started": "2024-09-19T13:43:24.508105Z"
    },
    "trusted": true
   },
   "outputs": [],
   "source": [
    "print(x_test.shape)\n",
    "x_test=x_test.reshape(-1,W,H,1)\n",
    "print(x_test.shape)"
   ]
  },
  {
   "cell_type": "code",
   "execution_count": null,
   "metadata": {
    "execution": {
     "iopub.execute_input": "2024-09-19T13:43:24.523289Z",
     "iopub.status.busy": "2024-09-19T13:43:24.521581Z",
     "iopub.status.idle": "2024-09-19T13:43:24.567202Z",
     "shell.execute_reply": "2024-09-19T13:43:24.566059Z",
     "shell.execute_reply.started": "2024-09-19T13:43:24.523240Z"
    },
    "trusted": true
   },
   "outputs": [],
   "source": [
    "x_cv,x_test,y_cv,y_test= train_test_split(x_test,y_test,test_size=0.4, random_state=88)\n",
    "x_cv.shape, y_cv.shape"
   ]
  },
  {
   "cell_type": "code",
   "execution_count": null,
   "metadata": {
    "execution": {
     "iopub.execute_input": "2024-09-19T14:08:59.004938Z",
     "iopub.status.busy": "2024-09-19T14:08:59.004417Z",
     "iopub.status.idle": "2024-09-19T14:10:39.627433Z",
     "shell.execute_reply": "2024-09-19T14:10:39.625871Z",
     "shell.execute_reply.started": "2024-09-19T14:08:59.004895Z"
    },
    "trusted": true
   },
   "outputs": [],
   "source": [
    "model= Sequential([\n",
    "kr.layers.Flatten(input_shape =(28,28),),\n",
    "Dense(94, input_shape=(784,), activation='relu'),\n",
    "Dense(94, activation='relu'),\n",
    "Dense(47, activation='softmax')\n",
    "])\n",
    "model.compile(optimizer='adam',\n",
    "              loss='categorical_crossentropy',\n",
    "              metrics=['accuracy'])\n",
    "hist=model.fit(x_train, y_train,validation_split=0.1, epochs=10)"
   ]
  },
  {
   "cell_type": "code",
   "execution_count": null,
   "metadata": {
    "execution": {
     "iopub.execute_input": "2024-09-19T14:06:22.699744Z",
     "iopub.status.busy": "2024-09-19T14:06:22.699229Z",
     "iopub.status.idle": "2024-09-19T14:06:24.692342Z",
     "shell.execute_reply": "2024-09-19T14:06:24.691076Z",
     "shell.execute_reply.started": "2024-09-19T14:06:22.699701Z"
    },
    "trusted": true
   },
   "outputs": [],
   "source": [
    "y_pred = model.predict(x_cv)\n",
    "# Finding shape\n",
    "y_pred.shape"
   ]
  },
  {
   "cell_type": "code",
   "execution_count": null,
   "metadata": {
    "execution": {
     "iopub.execute_input": "2024-09-19T14:06:34.120112Z",
     "iopub.status.busy": "2024-09-19T14:06:34.119168Z",
     "iopub.status.idle": "2024-09-19T14:06:37.044856Z",
     "shell.execute_reply": "2024-09-19T14:06:37.043769Z",
     "shell.execute_reply.started": "2024-09-19T14:06:34.120061Z"
    },
    "trusted": true
   },
   "outputs": [],
   "source": [
    "plt.figure(figsize=(10, 8), dpi=80)\n",
    "for i in range(200, 218):\n",
    "    plt.subplot(3,6,i-199)\n",
    "    plt.imshow(x_cv[i], cmap=plt.cm.gray)\n",
    "    plt.title(label_dict[y_pred[i].argmax()])"
   ]
  },
  {
   "cell_type": "code",
   "execution_count": 91,
   "metadata": {
    "execution": {
     "iopub.execute_input": "2024-09-19T14:11:11.358933Z",
     "iopub.status.busy": "2024-09-19T14:11:11.358493Z",
     "iopub.status.idle": "2024-09-19T14:11:11.366082Z",
     "shell.execute_reply": "2024-09-19T14:11:11.364757Z",
     "shell.execute_reply.started": "2024-09-19T14:11:11.358895Z"
    },
    "trusted": true
   },
   "outputs": [],
   "source": [
    "acc = hist.history['accuracy']\n",
    "val_acc = hist.history['val_accuracy']\n",
    "loss = hist.history['loss']\n",
    "val_loss = hist.history['val_loss']\n",
    "epochs = range(1,len(acc)+1)"
   ]
  },
  {
   "cell_type": "code",
   "execution_count": 92,
   "metadata": {
    "execution": {
     "iopub.execute_input": "2024-09-19T14:11:42.115356Z",
     "iopub.status.busy": "2024-09-19T14:11:42.114908Z",
     "iopub.status.idle": "2024-09-19T14:11:42.123121Z",
     "shell.execute_reply": "2024-09-19T14:11:42.121638Z",
     "shell.execute_reply.started": "2024-09-19T14:11:42.115317Z"
    },
    "trusted": true
   },
   "outputs": [],
   "source": [
    "def plotgraph(epochs, acc, val_acc):\n",
    "    # Plot training & validation accuracy values\n",
    "    plt.plot(epochs, acc, 'b')\n",
    "    plt.plot(epochs, val_acc, 'r')\n",
    "    plt.title('Model accuracy')\n",
    "    plt.ylabel('Accuracy')\n",
    "    plt.xlabel('Epoch')\n",
    "    plt.legend(['Train', 'Val'], loc='upper left')\n",
    "    plt.show()"
   ]
  },
  {
   "cell_type": "code",
   "execution_count": null,
   "metadata": {
    "execution": {
     "iopub.execute_input": "2024-09-19T14:12:16.364376Z",
     "iopub.status.busy": "2024-09-19T14:12:16.363877Z",
     "iopub.status.idle": "2024-09-19T14:12:16.640568Z",
     "shell.execute_reply": "2024-09-19T14:12:16.639339Z",
     "shell.execute_reply.started": "2024-09-19T14:12:16.364332Z"
    },
    "trusted": true
   },
   "outputs": [],
   "source": [
    "plotgraph(epochs, acc, val_acc)"
   ]
  },
  {
   "cell_type": "code",
   "execution_count": null,
   "metadata": {},
   "outputs": [],
   "source": []
  }
 ],
 "metadata": {
  "kaggle": {
   "accelerator": "none",
   "dataSources": [
    {
     "datasetId": 7160,
     "sourceId": 10705,
     "sourceType": "datasetVersion"
    }
   ],
   "isGpuEnabled": false,
   "isInternetEnabled": true,
   "language": "python",
   "sourceType": "notebook"
  },
  "kernelspec": {
   "display_name": "Python 3",
   "language": "python",
   "name": "python3"
  },
  "language_info": {
   "codemirror_mode": {
    "name": "ipython",
    "version": 3
   },
   "file_extension": ".py",
   "mimetype": "text/x-python",
   "name": "python",
   "nbconvert_exporter": "python",
   "pygments_lexer": "ipython3",
   "version": "3.12.4"
  }
 },
 "nbformat": 4,
 "nbformat_minor": 4
}
